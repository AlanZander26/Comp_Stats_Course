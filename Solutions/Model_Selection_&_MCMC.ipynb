{
 "cells": [
  {
   "cell_type": "markdown",
   "id": "e4da2588-32b3-4374-b3b2-0f968a0333c9",
   "metadata": {},
   "source": [
    "<div align=\"center\">\n",
    "\n",
    "# Exercise Sheet 6: Data Science Methods  \n",
    "## Technische Universität München \n",
    "### Winter semester 2024-2025\n",
    "\n",
    "</div>\n"
   ]
  },
  {
   "cell_type": "code",
   "execution_count": 28,
   "id": "1f413b6f-2329-45e2-9b2c-81eae794a4b6",
   "metadata": {},
   "outputs": [],
   "source": [
    "import numpy as np\n",
    "import pandas as pd\n",
    "import scipy as sp\n",
    "import matplotlib.pyplot as plt\n",
    "import yfinance as yf"
   ]
  },
  {
   "cell_type": "markdown",
   "id": "cc5ca979-efa4-4a2c-9825-38c0f4e4aaf9",
   "metadata": {},
   "source": [
    "## 1. Exercise: Numerical Integration"
   ]
  },
  {
   "cell_type": "markdown",
   "id": "11c32f84-0fba-45e2-a152-60bd691798f8",
   "metadata": {},
   "source": [
    "### Write a function in Python that implements the trapezoid method in one dimension for estimating the integral of a function $f$ in a given interval $(a, b)$."
   ]
  },
  {
   "cell_type": "code",
   "execution_count": 29,
   "id": "dc50eb3c-be32-4e14-8551-49aeacdac6b1",
   "metadata": {},
   "outputs": [],
   "source": [
    "def trapezoid(f, a, b, n=1_000):\n",
    "    dx = (b - a)/n\n",
    "    x_arr = np.linspace(a, b, n+1)\n",
    "    f_arr = f(x_arr)\n",
    "    f_ini = f_arr[:-1]\n",
    "    f_fin = f_arr[1:]\n",
    "    f_sum = (f_ini + f_fin).sum()\n",
    "    I = f_sum / 2 * dx\n",
    "    return I"
   ]
  },
  {
   "cell_type": "markdown",
   "id": "64070cfa-24c6-400d-bf09-3974c8b26662",
   "metadata": {},
   "source": [
    "## 2. Exercise: Model Selection"
   ]
  },
  {
   "cell_type": "markdown",
   "id": "743280f5-dafa-4877-b7cc-232d768c18a4",
   "metadata": {},
   "source": [
    "###  2.1 Load the file `EUR_USD_exchange_rate.csv` into your working environment to use it as the dataset for this analysis. Each row corresponds to the exchange rate at the end of one day. Determine the output of our Bernoulli experiment for each day (except for the first one, which has no day before)."
   ]
  },
  {
   "cell_type": "code",
   "execution_count": 30,
   "id": "0c65c6f8-ceb1-40e4-8378-7403ed4c04bb",
   "metadata": {},
   "outputs": [],
   "source": [
    "# Global variables\n",
    "q0 = 0.5"
   ]
  },
  {
   "cell_type": "code",
   "execution_count": 31,
   "id": "367ded52-9d1c-406c-ab34-fe13eb3cbbb4",
   "metadata": {},
   "outputs": [],
   "source": [
    "# Upload data\n",
    "data = pd.read_csv(\"EUR_USD_exchange_rate.csv\")\n",
    "data = data[\"Close\"]"
   ]
  },
  {
   "cell_type": "code",
   "execution_count": 32,
   "id": "f38a8892-d5a9-4751-abab-19e0292b58c4",
   "metadata": {},
   "outputs": [
    {
     "data": {
      "text/plain": [
       "5489"
      ]
     },
     "execution_count": 32,
     "metadata": {},
     "output_type": "execute_result"
    }
   ],
   "source": [
    "data.size"
   ]
  },
  {
   "cell_type": "code",
   "execution_count": 33,
   "id": "17b9eb5a-b3ed-4558-9a88-9f73e799721c",
   "metadata": {},
   "outputs": [
    {
     "name": "stdout",
     "output_type": "stream",
     "text": [
      "[ True False False ... False False False]\n"
     ]
    }
   ],
   "source": [
    "# Construct the relative change of the price in %\n",
    "changes = 100*np.diff(data)/data[:-1].to_numpy()\n",
    "\n",
    "# Determine if the day's retuns have the same sign as the day before\n",
    "Bernoulli_ouput = (changes[:-1] * changes[1:] > 0)\n",
    "print(Bernoulli_ouput)"
   ]
  },
  {
   "cell_type": "markdown",
   "id": "2b68a75e-4206-4a7e-82ac-28cdbaed82a9",
   "metadata": {},
   "source": [
    "### 2.2 Assuming that daily returns are independent of each other, calculate the Bayes factor $K$. For the integral over the success probability $q$ use your implementation of the trapezoid method from Exercise 1. Is there a preference for one model over the other based on the data?"
   ]
  },
  {
   "cell_type": "code",
   "execution_count": 34,
   "id": "cf0433a9-a818-4e6f-89df-0b0f560bdee8",
   "metadata": {},
   "outputs": [
    {
     "name": "stdout",
     "output_type": "stream",
     "text": [
      "n = 5488, k = 2641\n",
      "0.00022544064255161623 0.00018218254691201058\n",
      "Bayes factor K = 1.2374436869657892.\n",
      "Strength of evidence: Not worth more than a bare mention.\n"
     ]
    }
   ],
   "source": [
    "# A number of n independent Bernoulli experiments with the same success probability q are equivalent to one Binomial experiment Binomial(n, q). Hence\n",
    "n = len(changes) # Number of days we perform the Bernoulli experiment\n",
    "k = Bernoulli_ouput.sum() # Number of successes \n",
    "print(f\"n = {n}, k = {k}\")\n",
    "\n",
    "num = sp.stats.binom.pmf(k, n, q0) # P(Data | M0)\n",
    "L = lambda q : sp.stats.binom.pmf(k, n, q) # Likelihood with unknown parameter q.\n",
    "denom = trapezoid(L, 0, 1) # P(Data | M1)\n",
    "K = num / denom\n",
    "\n",
    "print(num, denom)\n",
    "print(f\"Bayes factor K = {K}.\") \n",
    "\n",
    "if K < 3.2:\n",
    "    s = \"Not worth more than a bare mention.\"\n",
    "elif 3.2 <= K and K < 1e1:\n",
    "    s = \"Substantial.\"\n",
    "elif 1e1 <= K and K < 1e2:\n",
    "    s = \"Strong.\"\n",
    "elif 1e2 <= K:\n",
    "    s = \"Decisive.\"\n",
    "else:\n",
    "    s = \"Undetermined.\"\n",
    "print(\"Strength of evidence: \" + s)"
   ]
  },
  {
   "cell_type": "markdown",
   "id": "24733d65-ec41-4cb7-826b-6f26e5bcb52c",
   "metadata": {},
   "source": [
    "### 2.3 We want to compare this procedure to the classical approach. Construct the LRT and assuming Wilk's theorem applies (which it does), compute the p-value and decide whether or not the null hypothesis can be rejected with a significance level of $\\alpha = 0.05$. Interpret the results."
   ]
  },
  {
   "cell_type": "code",
   "execution_count": 35,
   "id": "4175b0cc-676c-440f-b0b4-3bbe37cf523f",
   "metadata": {},
   "outputs": [
    {
     "name": "stdout",
     "output_type": "stream",
     "text": [
      "q_MLE = 0.48123177842565595\n",
      "sigma_MLE = 0.006744609037415767\n"
     ]
    }
   ],
   "source": [
    "# To construct the LRT, we need the MLE of our parameter of interest q:\n",
    "q_MLE = k/n\n",
    "\n",
    "# For curiosity, we also compute the MLE of the standard deviation\n",
    "sigma_q_MLE = np.sqrt((k/n*(1-k/n))/n)\n",
    "print(f\"q_MLE = {q_MLE}\")\n",
    "print(f\"sigma_MLE = {sigma_q_MLE}\")"
   ]
  },
  {
   "cell_type": "code",
   "execution_count": 41,
   "id": "6e003dd1-bac8-4d5d-a5a3-1b11cb2da4ca",
   "metadata": {},
   "outputs": [
    {
     "name": "stdout",
     "output_type": "stream",
     "text": [
      "Significance level alpha = 0.05\n",
      "p-value = 0.0054180839472668385\n",
      "Obseved value LRT = 7.73432414336255\n",
      "Cutoff value for LRT = 3.841458820694124\n",
      "We reject the null hypothesis.\n"
     ]
    }
   ],
   "source": [
    "alpha = 0.05 # significance level\n",
    "print(f\"Significance level alpha = {alpha}\")\n",
    "p_value = 1 - sp.stats.chi2.cdf(LRT, df=1)\n",
    "print(f\"p-value = {p_value}\")\n",
    "\n",
    "LRT = -2 * np.log(num / sp.stats.binom.pmf(k, n, q_MLE)) # Observed value\n",
    "print(f\"Obseved value LRT = {LRT}\")\n",
    "\n",
    "LRT_cutoff = sp.stats.chi2.ppf(1-alpha, df=1)\n",
    "print(f\"Cutoff value for LRT = {LRT_cutoff}\")\n",
    "\n",
    "if LRT <= LRT_cutoff: # equivalent: p_value >= alpha\n",
    "    print(\"Null hypothesis cannot be rejected from the data.\")\n",
    "else:\n",
    "    print(\"We reject the null hypothesis.\")"
   ]
  },
  {
   "cell_type": "markdown",
   "id": "a296b619-bbf4-47bb-a26e-c7670d090116",
   "metadata": {},
   "source": [
    "In contrast to the classical LRT, the Bayesian approach penalizes the complexity of a model, which makes $M_0$ consistent with our data. Talk about the std in the frequentist approach being too small and that is why M0 can be rejected."
   ]
  },
  {
   "cell_type": "code",
   "execution_count": null,
   "id": "c9c691b4-e4d9-42a2-a1c3-d708c60a16da",
   "metadata": {},
   "outputs": [],
   "source": []
  },
  {
   "cell_type": "code",
   "execution_count": 37,
   "id": "7f788adf-c876-49f9-9576-e01158fa1769",
   "metadata": {},
   "outputs": [
    {
     "data": {
      "image/png": "[encoded data removed]",
      "text/plain": [
       "<Figure size 432x288 with 1 Axes>"
      ]
     },
     "metadata": {
      "needs_background": "light"
     },
     "output_type": "display_data"
    }
   ],
   "source": [
    "# Checking that Wilk's theorem holds:\n",
    "N = 10_000 # Number of simulations\n",
    "k_sim = sp.stats.bernoulli.rvs(q0, size=(n, N)).sum(axis=0) # Simulated data, given the null hypothesis. We generate n Bernoulli experiments and we count how many successes we had.\n",
    "q_MLE_sim = k_sim/n # q MLE for Bernoulli experiments.\n",
    "num_sim = sp.stats.binom.pmf(k_sim, n, q0) # Likelihood given the null hypothesis.\n",
    "LRT_arr = -2 * np.log(num_sim / sp.stats.binom.pmf(k_sim, n, q_MLE_sim))\n",
    "\n",
    "# Histogram of LRT_arr\n",
    "plt.hist(LRT_arr, bins=50, density=True, color='blue', alpha=0.6, label='LRT Histogram', histtype='step')\n",
    "\n",
    "# Overlay chi-squared distribution (df=1)\n",
    "X = np.linspace(0, 10, 200)\n",
    "plt.plot(X, sp.stats.chi2.pdf(X, df=1), color='red', linewidth=2, label=r'$\\chi^2$ PDF (df=1)')\n",
    "\n",
    "plt.yscale('log')\n",
    "plt.title('LRT Histogram with $\\chi^2$ PDF Overlay', fontsize=18)\n",
    "plt.xlabel('LRT Value', fontsize=14)\n",
    "plt.ylabel('Density (log scale)', fontsize=14)\n",
    "plt.legend(fontsize=12)\n",
    "plt.grid(alpha=0.3, which='both', linestyle='--')\n",
    "plt.xlim(0, 10)\n",
    "plt.show()"
   ]
  },
  {
   "cell_type": "code",
   "execution_count": 38,
   "id": "24fb159c-3ee4-47d7-973b-b478e89ffa7b",
   "metadata": {},
   "outputs": [
    {
     "data": {
      "text/plain": [
       "(0.48123177842565595, 0.006744609037415767)"
      ]
     },
     "execution_count": 38,
     "metadata": {},
     "output_type": "execute_result"
    }
   ],
   "source": [
    "q_MLE, sigma_q = k/n, np.sqrt((k/n*(1-k/n))/n)\n",
    "q_MLE, sigma_q"
   ]
  },
  {
   "cell_type": "code",
   "execution_count": 45,
   "id": "260f4960-7208-48f1-ac4d-fae79189d6b9",
   "metadata": {},
   "outputs": [
    {
     "data": {
      "text/plain": [
       "[<matplotlib.lines.Line2D at 0x7fd07ba5e520>]"
      ]
     },
     "execution_count": 45,
     "metadata": {},
     "output_type": "execute_result"
    },
    {
     "data": {
      "image/png": "[encoded data removed]",
      "text/plain": [
       "<Figure size 432x288 with 1 Axes>"
      ]
     },
     "metadata": {
      "needs_background": "light"
     },
     "output_type": "display_data"
    }
   ],
   "source": [
    "N = 10_000\n",
    "q0 = 0.5\n",
    "sigma0 = np.sqrt(q0*(1-q0)/n)\n",
    "x = sp.stats.bernoulli.rvs(q0, size=(n, N))\n",
    "X = np.linspace(0.45, 0.53, 100)\n",
    "Y = sp.stats.norm.pdf(X, loc=q0, scale=sigma0)\n",
    "plt.hist(x.mean(axis=0), bins=50, density=True)\n",
    "plt.plot(X, Y)\n",
    "Y1 = sp.stats.norm.pdf(X, loc=q_MLE, scale=sigma_q_MLE)\n",
    "plt.plot(X, Y1)"
   ]
  },
  {
   "cell_type": "markdown",
   "id": "599f2dc4-6f03-4eb3-a6f5-eef9eeca517d",
   "metadata": {},
   "source": [
    "## 3. Markov Chain Monte Carlo (MCMC)"
   ]
  },
  {
   "cell_type": "markdown",
   "id": "51155f25-09d6-4838-8eda-edc74ff94e20",
   "metadata": {},
   "source": [
    "### 3.1 Generate the sample that we will use as data and illustrate the generated data."
   ]
  },
  {
   "cell_type": "code",
   "execution_count": 417,
   "id": "ef327b59-2590-45d0-8160-33f5965f7df1",
   "metadata": {},
   "outputs": [
    {
     "data": {
      "image/png": "[encoded data removed]",
      "text/plain": [
       "<Figure size 432x288 with 1 Axes>"
      ]
     },
     "metadata": {
      "needs_background": "light"
     },
     "output_type": "display_data"
    }
   ],
   "source": [
    "# Generate data\n",
    "theta0 = -3.3\n",
    "sigma=1\n",
    "n_total = 1000\n",
    "data = sp.stats.norm.rvs(abs(theta0), sigma, size=n_total)\n",
    "\n",
    "# Illustrate data\n",
    "plt.hist(data, bins=50)\n",
    "plt.show()"
   ]
  },
  {
   "cell_type": "markdown",
   "id": "bc1a6b6d-3d0b-475b-81a7-c65a6036db98",
   "metadata": {},
   "source": [
    "### 3.2 Apply the Metropolis algorithm to estimate the posterior distribution $P\\left(\\theta | \\text{data}\\right)$. Assume a flat prior (uniform distribution $ P(\\theta) \\sim U(-30, 30)$) and a Gaussian proposal distribution $g(y | x) \\sim \\mathcal{N}\\left(x, \\tau^2 = 10^2\\right)$, where $x$ represents the current state and $y$ the proposed new state in the Markov chain."
   ]
  },
  {
   "cell_type": "code",
   "execution_count": 421,
   "id": "c0a076b3-cf30-4297-af4d-b69fd3aee3b3",
   "metadata": {},
   "outputs": [],
   "source": [
    "# Log-likelihood (llh)\n",
    "def llh(data, theta):\n",
    "    return np.sum(sp.stats.norm.logpdf(data, loc=abs(theta), scale=sigma))\n",
    "\n",
    "# Metropolis acceptance ratio in log-space\n",
    "def ratio_llh(data, x_new, x_old, prior):\n",
    "    r1 = llh(data, x_new) + np.log(prior(x_new))\n",
    "    r2 = llh(data, x_old) + np.log(prior(x_old))\n",
    "    r = r1 - r2\n",
    "    return r"
   ]
  },
  {
   "cell_type": "code",
   "execution_count": 439,
   "id": "8382cb4e-1a1d-4552-9d71-09452a661447",
   "metadata": {},
   "outputs": [
    {
     "data": {
      "image/png": "[encoded data removed]",
      "text/plain": [
       "<Figure size 432x288 with 1 Axes>"
      ]
     },
     "metadata": {
      "needs_background": "light"
     },
     "output_type": "display_data"
    }
   ],
   "source": [
    " # Illustrate the llh\n",
    "theta_arr = np.linspace(-10, 10, 100)\n",
    "llh_arr = []\n",
    "for theta in theta_arr:\n",
    "    llh_arr.append(llh(data, theta))\n",
    "llh_arr = np.array(llh_arr)\n",
    "plt.plot(theta_arr, llh_arr)\n",
    "plt.show()"
   ]
  },
  {
   "cell_type": "code",
   "execution_count": 429,
   "id": "a36f1c5a-2c94-4d8b-9d75-5bc5e9c7825b",
   "metadata": {},
   "outputs": [],
   "source": [
    "# Implementation of Metropolis algorithm\n",
    "def Metropolis_algo(data, starting_point, prior, proposal_distr, n_steps=10_000):\n",
    "    samples = [starting_point] # starting point\n",
    "    for i in range(n_steps):\n",
    "        x = samples[-1]\n",
    "        y = proposal_distr(x).rvs() # proposal distr. with tau=5\n",
    "        r = ratio_llh(data, y, x, prior)\n",
    "        u = np.log(sp.stats.uniform.rvs()) # we need to apply the log since we are working with llh\n",
    "        if r > u:\n",
    "            samples.append(y)\n",
    "        else:\n",
    "            samples.append(x)\n",
    "    return samples"
   ]
  },
  {
   "cell_type": "code",
   "execution_count": 436,
   "id": "5f2acc22-18b9-46d8-a2e7-30e110c48b3c",
   "metadata": {},
   "outputs": [],
   "source": [
    "# Metropolis algorithm with tau = 5\n",
    "starting_point = 0\n",
    "prior = lambda theta : sp.stats.uniform.pdf(theta, loc=-30, scale=60) \n",
    "tau = 5\n",
    "proposal_distr = lambda x : sp.stats.norm(loc=x, scale=tau)\n",
    "samples = Metropolis_algo(data, starting_point, prior, proposal_distr)"
   ]
  },
  {
   "cell_type": "code",
   "execution_count": 437,
   "id": "21c2bdc6-6f90-4751-84ad-7759c708f728",
   "metadata": {},
   "outputs": [
    {
     "data": {
      "image/png": "[encoded data removed]",
      "text/plain": [
       "<Figure size 432x288 with 1 Axes>"
      ]
     },
     "metadata": {
      "needs_background": "light"
     },
     "output_type": "display_data"
    },
    {
     "data": {
      "image/png": "[encoded data removed]",
      "text/plain": [
       "<Figure size 432x288 with 1 Axes>"
      ]
     },
     "metadata": {
      "needs_background": "light"
     },
     "output_type": "display_data"
    }
   ],
   "source": [
    "# Trace of Markov chain to visualize what is happening\n",
    "plt.plot(range(len(samples)), samples)\n",
    "plt.show()\n",
    "\n",
    "# Posterior distribution P(theta | data)\n",
    "samples = np.array(samples)\n",
    "plt.hist(samples, bins=200, density=True)\n",
    "plt.show()"
   ]
  },
  {
   "cell_type": "markdown",
   "id": "04221bd3-086c-48fe-b2c3-f60d29f393cc",
   "metadata": {},
   "source": [
    "### 3.3  Now try $\\tau = 1$ and discuss your results in contrast to $\\tau = 5$."
   ]
  },
  {
   "cell_type": "code",
   "execution_count": 438,
   "id": "ee0ef2a1-32e2-4516-a9a1-c058f83158b2",
   "metadata": {},
   "outputs": [
    {
     "data": {
      "image/png": "[encoded data removed]",
      "text/plain": [
       "<Figure size 432x288 with 1 Axes>"
      ]
     },
     "metadata": {
      "needs_background": "light"
     },
     "output_type": "display_data"
    },
    {
     "data": {
      "image/png": "[encoded data removed]",
      "text/plain": [
       "<Figure size 432x288 with 1 Axes>"
      ]
     },
     "metadata": {
      "needs_background": "light"
     },
     "output_type": "display_data"
    }
   ],
   "source": [
    "# Metropolis algorithm with tau = 1\n",
    "starting_point = 0\n",
    "prior = lambda theta : sp.stats.uniform.pdf(theta, loc=-30, scale=60) \n",
    "tau = 1\n",
    "proposal_distr = lambda x : sp.stats.norm(loc=x, scale=tau)\n",
    "samples = Metropolis_algo(data, starting_point, prior, proposal_distr)\n",
    "\n",
    "# Trace of Markov chain to visualize what is happening\n",
    "plt.plot(range(len(samples)), samples)\n",
    "plt.show()\n",
    "\n",
    "# Posterior distribution P(theta | data)\n",
    "samples = np.array(samples)\n",
    "plt.hist(samples, bins=200, density=True)\n",
    "plt.show()"
   ]
  },
  {
   "cell_type": "markdown",
   "id": "f64e5de5-539e-46dd-ad96-935c6638cedf",
   "metadata": {},
   "source": [
    "As we could see before, the posterior is bimodal since the likelihood is invariant under reflection ($\\theta \\rightarrow -\\theta$). A too localized proposal distribution $g(y|x)$ will not find one of the peaks."
   ]
  },
  {
   "cell_type": "code",
   "execution_count": null,
   "id": "49cec30e-995c-4206-9b37-0b0db2984171",
   "metadata": {},
   "outputs": [],
   "source": []
  }
 ],
 "metadata": {
  "kernelspec": {
   "display_name": "Python 3 (ipykernel)",
   "language": "python",
   "name": "python3"
  },
  "language_info": {
   "codemirror_mode": {
    "name": "ipython",
    "version": 3
   },
   "file_extension": ".py",
   "mimetype": "text/x-python",
   "name": "python",
   "nbconvert_exporter": "python",
   "pygments_lexer": "ipython3",
   "version": "3.9.12"
  }
 },
 "nbformat": 4,
 "nbformat_minor": 5
}
